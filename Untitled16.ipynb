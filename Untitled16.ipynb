{
  "nbformat": 4,
  "nbformat_minor": 0,
  "metadata": {
    "colab": {
      "provenance": [],
      "gpuType": "T4"
    },
    "kernelspec": {
      "name": "python3",
      "display_name": "Python 3"
    },
    "language_info": {
      "name": "python"
    },
    "accelerator": "GPU"
  },
  "cells": [
    {
      "cell_type": "code",
      "execution_count": 2,
      "metadata": {
        "id": "ZG61BHCDjwkP"
      },
      "outputs": [],
      "source": [
        "import pandas as pd\n",
        "import numpy as np\n",
        "import zipfile\n",
        "import os\n",
        "import cv2\n",
        "import tensorflow\n",
        "from tensorflow import keras\n",
        "from tensorflow.keras.models import Sequential\n",
        "from tensorflow.keras.layers import Dense, Dropout, Flatten\n",
        "from tensorflow.keras.layers import Conv2D, MaxPooling2D\n",
        "from keras.utils import image_dataset_from_directory\n",
        "from tensorflow.keras.preprocessing.image import ImageDataGenerator\n",
        "\n"
      ]
    },
    {
      "cell_type": "markdown",
      "source": [],
      "metadata": {
        "id": "FGXYtF4wnXK3"
      }
    },
    {
      "cell_type": "code",
      "source": [
        "! kaggle datasets download saharnazyaghoobpoor/happy-and-sad-image\n"
      ],
      "metadata": {
        "colab": {
          "base_uri": "https://localhost:8080/"
        },
        "id": "JMkLpAF9kIrI",
        "outputId": "93522f3c-8391-403c-b779-9538a3bb0a8d"
      },
      "execution_count": 3,
      "outputs": [
        {
          "output_type": "stream",
          "name": "stdout",
          "text": [
            "Dataset URL: https://www.kaggle.com/datasets/saharnazyaghoobpoor/happy-and-sad-image\n",
            "License(s): CC0-1.0\n",
            "Downloading happy-and-sad-image.zip to /content\n",
            " 99% 67.0M/67.8M [00:00<00:00, 100MB/s]\n",
            "100% 67.8M/67.8M [00:00<00:00, 92.2MB/s]\n"
          ]
        }
      ]
    },
    {
      "cell_type": "code",
      "source": [
        "zip=zipfile.ZipFile('/content/happy-and-sad-image.zip')\n",
        "zip.extractall()\n",
        "zip.close()"
      ],
      "metadata": {
        "id": "XyWFtet_kEIn"
      },
      "execution_count": 4,
      "outputs": []
    },
    {
      "cell_type": "code",
      "source": [
        "path=r'/content/data'"
      ],
      "metadata": {
        "id": "uhrdr8Y6kwJX"
      },
      "execution_count": 5,
      "outputs": []
    },
    {
      "cell_type": "code",
      "source": [
        "len(os.listdir(os.path.join(path,os.listdir(path)[0])))"
      ],
      "metadata": {
        "colab": {
          "base_uri": "https://localhost:8080/"
        },
        "id": "OhXIegGclAOQ",
        "outputId": "d2b0f749-bb22-47ab-8db1-83648014fa20"
      },
      "execution_count": 6,
      "outputs": [
        {
          "output_type": "execute_result",
          "data": {
            "text/plain": [
              "102"
            ]
          },
          "metadata": {},
          "execution_count": 6
        }
      ]
    },
    {
      "cell_type": "code",
      "source": [
        "train,test=image_dataset_from_directory(path,batch_size=32,image_size=(224,224),shuffle=True,\n",
        "                                  validation_split=0.2,subset='both',seed=42)"
      ],
      "metadata": {
        "colab": {
          "base_uri": "https://localhost:8080/"
        },
        "id": "LjKTJNBimRgx",
        "outputId": "9518b2c2-9cd4-44a7-9364-a2a47033c2ef"
      },
      "execution_count": 116,
      "outputs": [
        {
          "output_type": "stream",
          "name": "stdout",
          "text": [
            "Found 171 files belonging to 2 classes.\n",
            "Using 137 files for training.\n",
            "Using 34 files for validation.\n"
          ]
        }
      ]
    },
    {
      "cell_type": "code",
      "source": [
        "def normalize(image,label):\n",
        "  return image/255,label"
      ],
      "metadata": {
        "id": "qF68mEfJoLhD"
      },
      "execution_count": 8,
      "outputs": []
    },
    {
      "cell_type": "code",
      "source": [
        "model=Sequential()\n",
        "model.add(Conv2D(120,kernel_size=(3,3),activation='relu',input_shape=(224,224,3)))\n",
        "model.add(MaxPooling2D(pool_size=(3,3)))\n",
        "model.add(Conv2D(60,kernel_size=(3,3),activation='relu'))\n",
        "model.add(MaxPooling2D(pool_size=(3,3)))\n",
        "model.add(Conv2D(30,kernel_size=(3,3),activation='relu'))\n",
        "model.add(MaxPooling2D(pool_size=(3,3)))\n",
        "model.add(Flatten())\n",
        "model.add(Dense(64,activation='relu'))\n",
        "model.add(Dense(32,activation='relu'))\n",
        "model.add(Dense(1,activation='sigmoid'))"
      ],
      "metadata": {
        "colab": {
          "base_uri": "https://localhost:8080/"
        },
        "id": "b7bCRqmfoQOF",
        "outputId": "70cd6c4f-ff20-410b-c149-7f7663f59f25"
      },
      "execution_count": 9,
      "outputs": [
        {
          "output_type": "stream",
          "name": "stderr",
          "text": [
            "/usr/local/lib/python3.10/dist-packages/keras/src/layers/convolutional/base_conv.py:107: UserWarning: Do not pass an `input_shape`/`input_dim` argument to a layer. When using Sequential models, prefer using an `Input(shape)` object as the first layer in the model instead.\n",
            "  super().__init__(activity_regularizer=activity_regularizer, **kwargs)\n"
          ]
        }
      ]
    },
    {
      "cell_type": "code",
      "source": [
        "model.compile(optimizer='adam',loss='binary_crossentropy',metrics=['accuracy'])"
      ],
      "metadata": {
        "id": "E9c2iDs7o5vJ"
      },
      "execution_count": 10,
      "outputs": []
    },
    {
      "cell_type": "code",
      "source": [
        "model.fit(train,epochs=10,validation_data=test)"
      ],
      "metadata": {
        "id": "Z7GaKxROo8r-",
        "outputId": "f6460dd4-f607-4437-967d-1cb47c95de31",
        "colab": {
          "base_uri": "https://localhost:8080/"
        }
      },
      "execution_count": 11,
      "outputs": [
        {
          "output_type": "stream",
          "name": "stdout",
          "text": [
            "Epoch 1/10\n",
            "\u001b[1m5/5\u001b[0m \u001b[32m━━━━━━━━━━━━━━━━━━━━\u001b[0m\u001b[37m\u001b[0m \u001b[1m26s\u001b[0m 4s/step - accuracy: 0.5697 - loss: 35.0325 - val_accuracy: 0.5882 - val_loss: 1.3031\n",
            "Epoch 2/10\n",
            "\u001b[1m5/5\u001b[0m \u001b[32m━━━━━━━━━━━━━━━━━━━━\u001b[0m\u001b[37m\u001b[0m \u001b[1m41s\u001b[0m 4s/step - accuracy: 0.5401 - loss: 2.3650 - val_accuracy: 0.5294 - val_loss: 1.7140\n",
            "Epoch 3/10\n",
            "\u001b[1m5/5\u001b[0m \u001b[32m━━━━━━━━━━━━━━━━━━━━\u001b[0m\u001b[37m\u001b[0m \u001b[1m40s\u001b[0m 4s/step - accuracy: 0.5898 - loss: 0.9992 - val_accuracy: 0.5294 - val_loss: 0.9432\n",
            "Epoch 4/10\n",
            "\u001b[1m5/5\u001b[0m \u001b[32m━━━━━━━━━━━━━━━━━━━━\u001b[0m\u001b[37m\u001b[0m \u001b[1m41s\u001b[0m 4s/step - accuracy: 0.6452 - loss: 0.6951 - val_accuracy: 0.6176 - val_loss: 0.7289\n",
            "Epoch 5/10\n",
            "\u001b[1m5/5\u001b[0m \u001b[32m━━━━━━━━━━━━━━━━━━━━\u001b[0m\u001b[37m\u001b[0m \u001b[1m41s\u001b[0m 4s/step - accuracy: 0.7474 - loss: 0.5242 - val_accuracy: 0.5882 - val_loss: 0.6689\n",
            "Epoch 6/10\n",
            "\u001b[1m5/5\u001b[0m \u001b[32m━━━━━━━━━━━━━━━━━━━━\u001b[0m\u001b[37m\u001b[0m \u001b[1m39s\u001b[0m 4s/step - accuracy: 0.7590 - loss: 0.5055 - val_accuracy: 0.5294 - val_loss: 0.7337\n",
            "Epoch 7/10\n",
            "\u001b[1m5/5\u001b[0m \u001b[32m━━━━━━━━━━━━━━━━━━━━\u001b[0m\u001b[37m\u001b[0m \u001b[1m24s\u001b[0m 4s/step - accuracy: 0.7920 - loss: 0.4268 - val_accuracy: 0.5588 - val_loss: 0.6611\n",
            "Epoch 8/10\n",
            "\u001b[1m5/5\u001b[0m \u001b[32m━━━━━━━━━━━━━━━━━━━━\u001b[0m\u001b[37m\u001b[0m \u001b[1m40s\u001b[0m 4s/step - accuracy: 0.8055 - loss: 0.4298 - val_accuracy: 0.6176 - val_loss: 0.7449\n",
            "Epoch 9/10\n",
            "\u001b[1m5/5\u001b[0m \u001b[32m━━━━━━━━━━━━━━━━━━━━\u001b[0m\u001b[37m\u001b[0m \u001b[1m41s\u001b[0m 4s/step - accuracy: 0.7872 - loss: 0.3593 - val_accuracy: 0.5882 - val_loss: 0.6948\n",
            "Epoch 10/10\n",
            "\u001b[1m5/5\u001b[0m \u001b[32m━━━━━━━━━━━━━━━━━━━━\u001b[0m\u001b[37m\u001b[0m \u001b[1m42s\u001b[0m 4s/step - accuracy: 0.8887 - loss: 0.3374 - val_accuracy: 0.5882 - val_loss: 0.8135\n"
          ]
        },
        {
          "output_type": "execute_result",
          "data": {
            "text/plain": [
              "<keras.src.callbacks.history.History at 0x7ee132c0dbd0>"
            ]
          },
          "metadata": {},
          "execution_count": 11
        }
      ]
    },
    {
      "cell_type": "code",
      "source": [
        "\n",
        "model1=Sequential()\n",
        "model1.add(Conv2D(120,kernel_size=(3,3),activation='relu',input_shape=(224,224,3)))\n",
        "model1.add(MaxPooling2D(pool_size=(3,3)))\n",
        "model1.add(Conv2D(60,kernel_size=(3,3),activation='relu'))\n",
        "model1.add(MaxPooling2D(pool_size=(3,3)))\n",
        "model1.add(Conv2D(30,kernel_size=(3,3),activation='relu'))\n",
        "model1.add(MaxPooling2D(pool_size=(3,3)))\n",
        "model1.add(Flatten())\n",
        "model1.add(Dense(64,activation='relu'))\n",
        "model1.add(Dropout(0.2))\n",
        "model1.add(Dense(32,activation='relu'))\n",
        "model1.add(Dropout(0.5))\n",
        "model1.add(Dense(1,activation='sigmoid'))"
      ],
      "metadata": {
        "id": "i_pT65Y2pAuW"
      },
      "execution_count": 12,
      "outputs": []
    },
    {
      "cell_type": "code",
      "source": [],
      "metadata": {
        "id": "h2J-2mrFpy3y"
      },
      "execution_count": 12,
      "outputs": []
    },
    {
      "cell_type": "code",
      "source": [
        "model1.summary()"
      ],
      "metadata": {
        "id": "UR2XGqxzp6oY",
        "outputId": "9ac4dbf2-4ca6-456f-fd66-1250e122642c",
        "colab": {
          "base_uri": "https://localhost:8080/",
          "height": 524
        }
      },
      "execution_count": 13,
      "outputs": [
        {
          "output_type": "display_data",
          "data": {
            "text/plain": [
              "\u001b[1mModel: \"sequential_1\"\u001b[0m\n"
            ],
            "text/html": [
              "<pre style=\"white-space:pre;overflow-x:auto;line-height:normal;font-family:Menlo,'DejaVu Sans Mono',consolas,'Courier New',monospace\"><span style=\"font-weight: bold\">Model: \"sequential_1\"</span>\n",
              "</pre>\n"
            ]
          },
          "metadata": {}
        },
        {
          "output_type": "display_data",
          "data": {
            "text/plain": [
              "┏━━━━━━━━━━━━━━━━━━━━━━━━━━━━━━━━━━━━━━┳━━━━━━━━━━━━━━━━━━━━━━━━━━━━━┳━━━━━━━━━━━━━━━━━┓\n",
              "┃\u001b[1m \u001b[0m\u001b[1mLayer (type)                        \u001b[0m\u001b[1m \u001b[0m┃\u001b[1m \u001b[0m\u001b[1mOutput Shape               \u001b[0m\u001b[1m \u001b[0m┃\u001b[1m \u001b[0m\u001b[1m        Param #\u001b[0m\u001b[1m \u001b[0m┃\n",
              "┡━━━━━━━━━━━━━━━━━━━━━━━━━━━━━━━━━━━━━━╇━━━━━━━━━━━━━━━━━━━━━━━━━━━━━╇━━━━━━━━━━━━━━━━━┩\n",
              "│ conv2d_3 (\u001b[38;5;33mConv2D\u001b[0m)                    │ (\u001b[38;5;45mNone\u001b[0m, \u001b[38;5;34m222\u001b[0m, \u001b[38;5;34m222\u001b[0m, \u001b[38;5;34m120\u001b[0m)       │           \u001b[38;5;34m3,360\u001b[0m │\n",
              "├──────────────────────────────────────┼─────────────────────────────┼─────────────────┤\n",
              "│ max_pooling2d_3 (\u001b[38;5;33mMaxPooling2D\u001b[0m)       │ (\u001b[38;5;45mNone\u001b[0m, \u001b[38;5;34m74\u001b[0m, \u001b[38;5;34m74\u001b[0m, \u001b[38;5;34m120\u001b[0m)         │               \u001b[38;5;34m0\u001b[0m │\n",
              "├──────────────────────────────────────┼─────────────────────────────┼─────────────────┤\n",
              "│ conv2d_4 (\u001b[38;5;33mConv2D\u001b[0m)                    │ (\u001b[38;5;45mNone\u001b[0m, \u001b[38;5;34m72\u001b[0m, \u001b[38;5;34m72\u001b[0m, \u001b[38;5;34m60\u001b[0m)          │          \u001b[38;5;34m64,860\u001b[0m │\n",
              "├──────────────────────────────────────┼─────────────────────────────┼─────────────────┤\n",
              "│ max_pooling2d_4 (\u001b[38;5;33mMaxPooling2D\u001b[0m)       │ (\u001b[38;5;45mNone\u001b[0m, \u001b[38;5;34m24\u001b[0m, \u001b[38;5;34m24\u001b[0m, \u001b[38;5;34m60\u001b[0m)          │               \u001b[38;5;34m0\u001b[0m │\n",
              "├──────────────────────────────────────┼─────────────────────────────┼─────────────────┤\n",
              "│ conv2d_5 (\u001b[38;5;33mConv2D\u001b[0m)                    │ (\u001b[38;5;45mNone\u001b[0m, \u001b[38;5;34m22\u001b[0m, \u001b[38;5;34m22\u001b[0m, \u001b[38;5;34m30\u001b[0m)          │          \u001b[38;5;34m16,230\u001b[0m │\n",
              "├──────────────────────────────────────┼─────────────────────────────┼─────────────────┤\n",
              "│ max_pooling2d_5 (\u001b[38;5;33mMaxPooling2D\u001b[0m)       │ (\u001b[38;5;45mNone\u001b[0m, \u001b[38;5;34m7\u001b[0m, \u001b[38;5;34m7\u001b[0m, \u001b[38;5;34m30\u001b[0m)            │               \u001b[38;5;34m0\u001b[0m │\n",
              "├──────────────────────────────────────┼─────────────────────────────┼─────────────────┤\n",
              "│ flatten_1 (\u001b[38;5;33mFlatten\u001b[0m)                  │ (\u001b[38;5;45mNone\u001b[0m, \u001b[38;5;34m1470\u001b[0m)                │               \u001b[38;5;34m0\u001b[0m │\n",
              "├──────────────────────────────────────┼─────────────────────────────┼─────────────────┤\n",
              "│ dense_3 (\u001b[38;5;33mDense\u001b[0m)                      │ (\u001b[38;5;45mNone\u001b[0m, \u001b[38;5;34m64\u001b[0m)                  │          \u001b[38;5;34m94,144\u001b[0m │\n",
              "├──────────────────────────────────────┼─────────────────────────────┼─────────────────┤\n",
              "│ dropout (\u001b[38;5;33mDropout\u001b[0m)                    │ (\u001b[38;5;45mNone\u001b[0m, \u001b[38;5;34m64\u001b[0m)                  │               \u001b[38;5;34m0\u001b[0m │\n",
              "├──────────────────────────────────────┼─────────────────────────────┼─────────────────┤\n",
              "│ dense_4 (\u001b[38;5;33mDense\u001b[0m)                      │ (\u001b[38;5;45mNone\u001b[0m, \u001b[38;5;34m32\u001b[0m)                  │           \u001b[38;5;34m2,080\u001b[0m │\n",
              "├──────────────────────────────────────┼─────────────────────────────┼─────────────────┤\n",
              "│ dropout_1 (\u001b[38;5;33mDropout\u001b[0m)                  │ (\u001b[38;5;45mNone\u001b[0m, \u001b[38;5;34m32\u001b[0m)                  │               \u001b[38;5;34m0\u001b[0m │\n",
              "├──────────────────────────────────────┼─────────────────────────────┼─────────────────┤\n",
              "│ dense_5 (\u001b[38;5;33mDense\u001b[0m)                      │ (\u001b[38;5;45mNone\u001b[0m, \u001b[38;5;34m1\u001b[0m)                   │              \u001b[38;5;34m33\u001b[0m │\n",
              "└──────────────────────────────────────┴─────────────────────────────┴─────────────────┘\n"
            ],
            "text/html": [
              "<pre style=\"white-space:pre;overflow-x:auto;line-height:normal;font-family:Menlo,'DejaVu Sans Mono',consolas,'Courier New',monospace\">┏━━━━━━━━━━━━━━━━━━━━━━━━━━━━━━━━━━━━━━┳━━━━━━━━━━━━━━━━━━━━━━━━━━━━━┳━━━━━━━━━━━━━━━━━┓\n",
              "┃<span style=\"font-weight: bold\"> Layer (type)                         </span>┃<span style=\"font-weight: bold\"> Output Shape                </span>┃<span style=\"font-weight: bold\">         Param # </span>┃\n",
              "┡━━━━━━━━━━━━━━━━━━━━━━━━━━━━━━━━━━━━━━╇━━━━━━━━━━━━━━━━━━━━━━━━━━━━━╇━━━━━━━━━━━━━━━━━┩\n",
              "│ conv2d_3 (<span style=\"color: #0087ff; text-decoration-color: #0087ff\">Conv2D</span>)                    │ (<span style=\"color: #00d7ff; text-decoration-color: #00d7ff\">None</span>, <span style=\"color: #00af00; text-decoration-color: #00af00\">222</span>, <span style=\"color: #00af00; text-decoration-color: #00af00\">222</span>, <span style=\"color: #00af00; text-decoration-color: #00af00\">120</span>)       │           <span style=\"color: #00af00; text-decoration-color: #00af00\">3,360</span> │\n",
              "├──────────────────────────────────────┼─────────────────────────────┼─────────────────┤\n",
              "│ max_pooling2d_3 (<span style=\"color: #0087ff; text-decoration-color: #0087ff\">MaxPooling2D</span>)       │ (<span style=\"color: #00d7ff; text-decoration-color: #00d7ff\">None</span>, <span style=\"color: #00af00; text-decoration-color: #00af00\">74</span>, <span style=\"color: #00af00; text-decoration-color: #00af00\">74</span>, <span style=\"color: #00af00; text-decoration-color: #00af00\">120</span>)         │               <span style=\"color: #00af00; text-decoration-color: #00af00\">0</span> │\n",
              "├──────────────────────────────────────┼─────────────────────────────┼─────────────────┤\n",
              "│ conv2d_4 (<span style=\"color: #0087ff; text-decoration-color: #0087ff\">Conv2D</span>)                    │ (<span style=\"color: #00d7ff; text-decoration-color: #00d7ff\">None</span>, <span style=\"color: #00af00; text-decoration-color: #00af00\">72</span>, <span style=\"color: #00af00; text-decoration-color: #00af00\">72</span>, <span style=\"color: #00af00; text-decoration-color: #00af00\">60</span>)          │          <span style=\"color: #00af00; text-decoration-color: #00af00\">64,860</span> │\n",
              "├──────────────────────────────────────┼─────────────────────────────┼─────────────────┤\n",
              "│ max_pooling2d_4 (<span style=\"color: #0087ff; text-decoration-color: #0087ff\">MaxPooling2D</span>)       │ (<span style=\"color: #00d7ff; text-decoration-color: #00d7ff\">None</span>, <span style=\"color: #00af00; text-decoration-color: #00af00\">24</span>, <span style=\"color: #00af00; text-decoration-color: #00af00\">24</span>, <span style=\"color: #00af00; text-decoration-color: #00af00\">60</span>)          │               <span style=\"color: #00af00; text-decoration-color: #00af00\">0</span> │\n",
              "├──────────────────────────────────────┼─────────────────────────────┼─────────────────┤\n",
              "│ conv2d_5 (<span style=\"color: #0087ff; text-decoration-color: #0087ff\">Conv2D</span>)                    │ (<span style=\"color: #00d7ff; text-decoration-color: #00d7ff\">None</span>, <span style=\"color: #00af00; text-decoration-color: #00af00\">22</span>, <span style=\"color: #00af00; text-decoration-color: #00af00\">22</span>, <span style=\"color: #00af00; text-decoration-color: #00af00\">30</span>)          │          <span style=\"color: #00af00; text-decoration-color: #00af00\">16,230</span> │\n",
              "├──────────────────────────────────────┼─────────────────────────────┼─────────────────┤\n",
              "│ max_pooling2d_5 (<span style=\"color: #0087ff; text-decoration-color: #0087ff\">MaxPooling2D</span>)       │ (<span style=\"color: #00d7ff; text-decoration-color: #00d7ff\">None</span>, <span style=\"color: #00af00; text-decoration-color: #00af00\">7</span>, <span style=\"color: #00af00; text-decoration-color: #00af00\">7</span>, <span style=\"color: #00af00; text-decoration-color: #00af00\">30</span>)            │               <span style=\"color: #00af00; text-decoration-color: #00af00\">0</span> │\n",
              "├──────────────────────────────────────┼─────────────────────────────┼─────────────────┤\n",
              "│ flatten_1 (<span style=\"color: #0087ff; text-decoration-color: #0087ff\">Flatten</span>)                  │ (<span style=\"color: #00d7ff; text-decoration-color: #00d7ff\">None</span>, <span style=\"color: #00af00; text-decoration-color: #00af00\">1470</span>)                │               <span style=\"color: #00af00; text-decoration-color: #00af00\">0</span> │\n",
              "├──────────────────────────────────────┼─────────────────────────────┼─────────────────┤\n",
              "│ dense_3 (<span style=\"color: #0087ff; text-decoration-color: #0087ff\">Dense</span>)                      │ (<span style=\"color: #00d7ff; text-decoration-color: #00d7ff\">None</span>, <span style=\"color: #00af00; text-decoration-color: #00af00\">64</span>)                  │          <span style=\"color: #00af00; text-decoration-color: #00af00\">94,144</span> │\n",
              "├──────────────────────────────────────┼─────────────────────────────┼─────────────────┤\n",
              "│ dropout (<span style=\"color: #0087ff; text-decoration-color: #0087ff\">Dropout</span>)                    │ (<span style=\"color: #00d7ff; text-decoration-color: #00d7ff\">None</span>, <span style=\"color: #00af00; text-decoration-color: #00af00\">64</span>)                  │               <span style=\"color: #00af00; text-decoration-color: #00af00\">0</span> │\n",
              "├──────────────────────────────────────┼─────────────────────────────┼─────────────────┤\n",
              "│ dense_4 (<span style=\"color: #0087ff; text-decoration-color: #0087ff\">Dense</span>)                      │ (<span style=\"color: #00d7ff; text-decoration-color: #00d7ff\">None</span>, <span style=\"color: #00af00; text-decoration-color: #00af00\">32</span>)                  │           <span style=\"color: #00af00; text-decoration-color: #00af00\">2,080</span> │\n",
              "├──────────────────────────────────────┼─────────────────────────────┼─────────────────┤\n",
              "│ dropout_1 (<span style=\"color: #0087ff; text-decoration-color: #0087ff\">Dropout</span>)                  │ (<span style=\"color: #00d7ff; text-decoration-color: #00d7ff\">None</span>, <span style=\"color: #00af00; text-decoration-color: #00af00\">32</span>)                  │               <span style=\"color: #00af00; text-decoration-color: #00af00\">0</span> │\n",
              "├──────────────────────────────────────┼─────────────────────────────┼─────────────────┤\n",
              "│ dense_5 (<span style=\"color: #0087ff; text-decoration-color: #0087ff\">Dense</span>)                      │ (<span style=\"color: #00d7ff; text-decoration-color: #00d7ff\">None</span>, <span style=\"color: #00af00; text-decoration-color: #00af00\">1</span>)                   │              <span style=\"color: #00af00; text-decoration-color: #00af00\">33</span> │\n",
              "└──────────────────────────────────────┴─────────────────────────────┴─────────────────┘\n",
              "</pre>\n"
            ]
          },
          "metadata": {}
        },
        {
          "output_type": "display_data",
          "data": {
            "text/plain": [
              "\u001b[1m Total params: \u001b[0m\u001b[38;5;34m180,707\u001b[0m (705.89 KB)\n"
            ],
            "text/html": [
              "<pre style=\"white-space:pre;overflow-x:auto;line-height:normal;font-family:Menlo,'DejaVu Sans Mono',consolas,'Courier New',monospace\"><span style=\"font-weight: bold\"> Total params: </span><span style=\"color: #00af00; text-decoration-color: #00af00\">180,707</span> (705.89 KB)\n",
              "</pre>\n"
            ]
          },
          "metadata": {}
        },
        {
          "output_type": "display_data",
          "data": {
            "text/plain": [
              "\u001b[1m Trainable params: \u001b[0m\u001b[38;5;34m180,707\u001b[0m (705.89 KB)\n"
            ],
            "text/html": [
              "<pre style=\"white-space:pre;overflow-x:auto;line-height:normal;font-family:Menlo,'DejaVu Sans Mono',consolas,'Courier New',monospace\"><span style=\"font-weight: bold\"> Trainable params: </span><span style=\"color: #00af00; text-decoration-color: #00af00\">180,707</span> (705.89 KB)\n",
              "</pre>\n"
            ]
          },
          "metadata": {}
        },
        {
          "output_type": "display_data",
          "data": {
            "text/plain": [
              "\u001b[1m Non-trainable params: \u001b[0m\u001b[38;5;34m0\u001b[0m (0.00 B)\n"
            ],
            "text/html": [
              "<pre style=\"white-space:pre;overflow-x:auto;line-height:normal;font-family:Menlo,'DejaVu Sans Mono',consolas,'Courier New',monospace\"><span style=\"font-weight: bold\"> Non-trainable params: </span><span style=\"color: #00af00; text-decoration-color: #00af00\">0</span> (0.00 B)\n",
              "</pre>\n"
            ]
          },
          "metadata": {}
        }
      ]
    },
    {
      "cell_type": "code",
      "source": [
        "model1.compile(optimizer='adam',loss='binary_crossentropy',metrics=['accuracy'])"
      ],
      "metadata": {
        "id": "lk0VwZRJp9qp"
      },
      "execution_count": 14,
      "outputs": []
    },
    {
      "cell_type": "code",
      "source": [
        "train=train.map(normalize)"
      ],
      "metadata": {
        "id": "RIIj5_j7qAaO"
      },
      "execution_count": 15,
      "outputs": []
    },
    {
      "cell_type": "code",
      "source": [
        "test=test.map(normalize)"
      ],
      "metadata": {
        "id": "NQBpWpK1qEEh"
      },
      "execution_count": 16,
      "outputs": []
    },
    {
      "cell_type": "markdown",
      "source": [],
      "metadata": {
        "id": "LP6jZfY0uW8W"
      }
    },
    {
      "cell_type": "code",
      "source": [
        "model1.fit(train,epochs=100,validation_data=test,callbacks=[keras.callbacks.EarlyStopping(patience=5)])"
      ],
      "metadata": {
        "id": "LMhRlmUuqHuf",
        "outputId": "0d7fce20-5796-4e5c-9752-a67ff3401cdc",
        "colab": {
          "base_uri": "https://localhost:8080/"
        }
      },
      "execution_count": 17,
      "outputs": [
        {
          "output_type": "stream",
          "name": "stdout",
          "text": [
            "Epoch 1/100\n",
            "\u001b[1m5/5\u001b[0m \u001b[32m━━━━━━━━━━━━━━━━━━━━\u001b[0m\u001b[37m\u001b[0m \u001b[1m26s\u001b[0m 4s/step - accuracy: 0.6062 - loss: 0.6827 - val_accuracy: 0.5294 - val_loss: 0.6835\n",
            "Epoch 2/100\n",
            "\u001b[1m5/5\u001b[0m \u001b[32m━━━━━━━━━━━━━━━━━━━━\u001b[0m\u001b[37m\u001b[0m \u001b[1m39s\u001b[0m 4s/step - accuracy: 0.5845 - loss: 0.6597 - val_accuracy: 0.5294 - val_loss: 0.6865\n",
            "Epoch 3/100\n",
            "\u001b[1m5/5\u001b[0m \u001b[32m━━━━━━━━━━━━━━━━━━━━\u001b[0m\u001b[37m\u001b[0m \u001b[1m24s\u001b[0m 4s/step - accuracy: 0.5996 - loss: 0.6679 - val_accuracy: 0.5294 - val_loss: 0.7025\n",
            "Epoch 4/100\n",
            "\u001b[1m5/5\u001b[0m \u001b[32m━━━━━━━━━━━━━━━━━━━━\u001b[0m\u001b[37m\u001b[0m \u001b[1m24s\u001b[0m 4s/step - accuracy: 0.5756 - loss: 0.6542 - val_accuracy: 0.5294 - val_loss: 0.6780\n",
            "Epoch 5/100\n",
            "\u001b[1m5/5\u001b[0m \u001b[32m━━━━━━━━━━━━━━━━━━━━\u001b[0m\u001b[37m\u001b[0m \u001b[1m22s\u001b[0m 4s/step - accuracy: 0.6429 - loss: 0.6113 - val_accuracy: 0.5294 - val_loss: 0.6850\n",
            "Epoch 6/100\n",
            "\u001b[1m5/5\u001b[0m \u001b[32m━━━━━━━━━━━━━━━━━━━━\u001b[0m\u001b[37m\u001b[0m \u001b[1m42s\u001b[0m 4s/step - accuracy: 0.5735 - loss: 0.6259 - val_accuracy: 0.5294 - val_loss: 0.6374\n",
            "Epoch 7/100\n",
            "\u001b[1m5/5\u001b[0m \u001b[32m━━━━━━━━━━━━━━━━━━━━\u001b[0m\u001b[37m\u001b[0m \u001b[1m22s\u001b[0m 4s/step - accuracy: 0.6373 - loss: 0.5562 - val_accuracy: 0.5294 - val_loss: 0.6291\n",
            "Epoch 8/100\n",
            "\u001b[1m5/5\u001b[0m \u001b[32m━━━━━━━━━━━━━━━━━━━━\u001b[0m\u001b[37m\u001b[0m \u001b[1m42s\u001b[0m 4s/step - accuracy: 0.6501 - loss: 0.5833 - val_accuracy: 0.5294 - val_loss: 0.6050\n",
            "Epoch 9/100\n",
            "\u001b[1m5/5\u001b[0m \u001b[32m━━━━━━━━━━━━━━━━━━━━\u001b[0m\u001b[37m\u001b[0m \u001b[1m22s\u001b[0m 4s/step - accuracy: 0.6521 - loss: 0.5466 - val_accuracy: 0.6765 - val_loss: 0.5713\n",
            "Epoch 10/100\n",
            "\u001b[1m5/5\u001b[0m \u001b[32m━━━━━━━━━━━━━━━━━━━━\u001b[0m\u001b[37m\u001b[0m \u001b[1m42s\u001b[0m 4s/step - accuracy: 0.7760 - loss: 0.5038 - val_accuracy: 0.6471 - val_loss: 0.5741\n",
            "Epoch 11/100\n",
            "\u001b[1m5/5\u001b[0m \u001b[32m━━━━━━━━━━━━━━━━━━━━\u001b[0m\u001b[37m\u001b[0m \u001b[1m41s\u001b[0m 4s/step - accuracy: 0.7099 - loss: 0.4898 - val_accuracy: 0.6176 - val_loss: 0.6400\n",
            "Epoch 12/100\n",
            "\u001b[1m5/5\u001b[0m \u001b[32m━━━━━━━━━━━━━━━━━━━━\u001b[0m\u001b[37m\u001b[0m \u001b[1m41s\u001b[0m 4s/step - accuracy: 0.7174 - loss: 0.6016 - val_accuracy: 0.7353 - val_loss: 0.5238\n",
            "Epoch 13/100\n",
            "\u001b[1m5/5\u001b[0m \u001b[32m━━━━━━━━━━━━━━━━━━━━\u001b[0m\u001b[37m\u001b[0m \u001b[1m40s\u001b[0m 4s/step - accuracy: 0.7906 - loss: 0.5099 - val_accuracy: 0.5294 - val_loss: 0.7591\n",
            "Epoch 14/100\n",
            "\u001b[1m5/5\u001b[0m \u001b[32m━━━━━━━━━━━━━━━━━━━━\u001b[0m\u001b[37m\u001b[0m \u001b[1m24s\u001b[0m 4s/step - accuracy: 0.7445 - loss: 0.4950 - val_accuracy: 0.7647 - val_loss: 0.5418\n",
            "Epoch 15/100\n",
            "\u001b[1m5/5\u001b[0m \u001b[32m━━━━━━━━━━━━━━━━━━━━\u001b[0m\u001b[37m\u001b[0m \u001b[1m41s\u001b[0m 4s/step - accuracy: 0.8406 - loss: 0.4603 - val_accuracy: 0.6176 - val_loss: 0.6659\n",
            "Epoch 16/100\n",
            "\u001b[1m5/5\u001b[0m \u001b[32m━━━━━━━━━━━━━━━━━━━━\u001b[0m\u001b[37m\u001b[0m \u001b[1m23s\u001b[0m 4s/step - accuracy: 0.7952 - loss: 0.4427 - val_accuracy: 0.7353 - val_loss: 0.5185\n",
            "Epoch 17/100\n",
            "\u001b[1m5/5\u001b[0m \u001b[32m━━━━━━━━━━━━━━━━━━━━\u001b[0m\u001b[37m\u001b[0m \u001b[1m23s\u001b[0m 4s/step - accuracy: 0.8599 - loss: 0.3825 - val_accuracy: 0.7059 - val_loss: 0.7941\n",
            "Epoch 18/100\n",
            "\u001b[1m5/5\u001b[0m \u001b[32m━━━━━━━━━━━━━━━━━━━━\u001b[0m\u001b[37m\u001b[0m \u001b[1m23s\u001b[0m 4s/step - accuracy: 0.9004 - loss: 0.3167 - val_accuracy: 0.7059 - val_loss: 0.5883\n",
            "Epoch 19/100\n",
            "\u001b[1m5/5\u001b[0m \u001b[32m━━━━━━━━━━━━━━━━━━━━\u001b[0m\u001b[37m\u001b[0m \u001b[1m24s\u001b[0m 4s/step - accuracy: 0.8453 - loss: 0.3789 - val_accuracy: 0.7353 - val_loss: 0.8050\n",
            "Epoch 20/100\n",
            "\u001b[1m5/5\u001b[0m \u001b[32m━━━━━━━━━━━━━━━━━━━━\u001b[0m\u001b[37m\u001b[0m \u001b[1m26s\u001b[0m 5s/step - accuracy: 0.8331 - loss: 0.4345 - val_accuracy: 0.6765 - val_loss: 0.5604\n",
            "Epoch 21/100\n",
            "\u001b[1m5/5\u001b[0m \u001b[32m━━━━━━━━━━━━━━━━━━━━\u001b[0m\u001b[37m\u001b[0m \u001b[1m38s\u001b[0m 4s/step - accuracy: 0.8310 - loss: 0.3403 - val_accuracy: 0.7059 - val_loss: 0.5931\n"
          ]
        },
        {
          "output_type": "execute_result",
          "data": {
            "text/plain": [
              "<keras.src.callbacks.history.History at 0x7ee09dcb0ca0>"
            ]
          },
          "metadata": {},
          "execution_count": 17
        }
      ]
    },
    {
      "cell_type": "code",
      "source": [
        "\n",
        "model3=Sequential()\n",
        "model3.add(Conv2D(120,kernel_size=(3,3),activation='relu',input_shape=(224,224,3)))\n",
        "model3.add(MaxPooling2D(pool_size=(3,3)))\n",
        "model3.add(Conv2D(60,kernel_size=(3,3),activation='relu'))\n",
        "model3.add(MaxPooling2D(pool_size=(3,3)))\n",
        "model3.add(Conv2D(30,kernel_size=(3,3),activation='relu'))\n",
        "model3.add(MaxPooling2D(pool_size=(3,3)))\n",
        "model3.add(Flatten())\n",
        "model3.add(Dense(64,activation='relu'))\n",
        "model3.add(keras.layers.BatchNormalization())\n",
        "model3.add(Dense(32,activation='relu'))\n",
        "model3.add(keras.layers.BatchNormalization())\n",
        "model3.add(Dense(1,activation='sigmoid'))"
      ],
      "metadata": {
        "id": "tUUQNm-3qKQC"
      },
      "execution_count": 49,
      "outputs": []
    },
    {
      "cell_type": "code",
      "source": [
        "model3.compile(optimizer='adam',loss='binary_crossentropy',metrics=['accuracy'])"
      ],
      "metadata": {
        "id": "xnBBDWLuqlKA"
      },
      "execution_count": 50,
      "outputs": []
    },
    {
      "cell_type": "code",
      "source": [
        "model3.fit(train,epochs=10,validation_data=test)"
      ],
      "metadata": {
        "id": "hIeOpgm1r4Aq",
        "outputId": "1c661cb0-7294-4b04-ca30-e6918d3c7134",
        "colab": {
          "base_uri": "https://localhost:8080/"
        }
      },
      "execution_count": 52,
      "outputs": [
        {
          "output_type": "stream",
          "name": "stdout",
          "text": [
            "Epoch 1/10\n",
            "\u001b[1m5/5\u001b[0m \u001b[32m━━━━━━━━━━━━━━━━━━━━\u001b[0m\u001b[37m\u001b[0m \u001b[1m2s\u001b[0m 421ms/step - accuracy: 1.0000 - loss: 0.1013 - val_accuracy: 0.5294 - val_loss: 0.6809\n",
            "Epoch 2/10\n",
            "\u001b[1m5/5\u001b[0m \u001b[32m━━━━━━━━━━━━━━━━━━━━\u001b[0m\u001b[37m\u001b[0m \u001b[1m2s\u001b[0m 287ms/step - accuracy: 1.0000 - loss: 0.0889 - val_accuracy: 0.5294 - val_loss: 0.7335\n",
            "Epoch 3/10\n",
            "\u001b[1m5/5\u001b[0m \u001b[32m━━━━━━━━━━━━━━━━━━━━\u001b[0m\u001b[37m\u001b[0m \u001b[1m4s\u001b[0m 510ms/step - accuracy: 0.9673 - loss: 0.1402 - val_accuracy: 0.5294 - val_loss: 0.7583\n",
            "Epoch 4/10\n",
            "\u001b[1m5/5\u001b[0m \u001b[32m━━━━━━━━━━━━━━━━━━━━\u001b[0m\u001b[37m\u001b[0m \u001b[1m2s\u001b[0m 236ms/step - accuracy: 0.9976 - loss: 0.0649 - val_accuracy: 0.5294 - val_loss: 0.7476\n",
            "Epoch 5/10\n",
            "\u001b[1m5/5\u001b[0m \u001b[32m━━━━━━━━━━━━━━━━━━━━\u001b[0m\u001b[37m\u001b[0m \u001b[1m2s\u001b[0m 384ms/step - accuracy: 0.9919 - loss: 0.0800 - val_accuracy: 0.5294 - val_loss: 0.7162\n",
            "Epoch 6/10\n",
            "\u001b[1m5/5\u001b[0m \u001b[32m━━━━━━━━━━━━━━━━━━━━\u001b[0m\u001b[37m\u001b[0m \u001b[1m2s\u001b[0m 442ms/step - accuracy: 1.0000 - loss: 0.0484 - val_accuracy: 0.5294 - val_loss: 0.6897\n",
            "Epoch 7/10\n",
            "\u001b[1m5/5\u001b[0m \u001b[32m━━━━━━━━━━━━━━━━━━━━\u001b[0m\u001b[37m\u001b[0m \u001b[1m2s\u001b[0m 266ms/step - accuracy: 1.0000 - loss: 0.0537 - val_accuracy: 0.5294 - val_loss: 0.6941\n",
            "Epoch 8/10\n",
            "\u001b[1m5/5\u001b[0m \u001b[32m━━━━━━━━━━━━━━━━━━━━\u001b[0m\u001b[37m\u001b[0m \u001b[1m3s\u001b[0m 588ms/step - accuracy: 1.0000 - loss: 0.0490 - val_accuracy: 0.5294 - val_loss: 0.7174\n",
            "Epoch 9/10\n",
            "\u001b[1m5/5\u001b[0m \u001b[32m━━━━━━━━━━━━━━━━━━━━\u001b[0m\u001b[37m\u001b[0m \u001b[1m3s\u001b[0m 333ms/step - accuracy: 1.0000 - loss: 0.0575 - val_accuracy: 0.5588 - val_loss: 0.6956\n",
            "Epoch 10/10\n",
            "\u001b[1m5/5\u001b[0m \u001b[32m━━━━━━━━━━━━━━━━━━━━\u001b[0m\u001b[37m\u001b[0m \u001b[1m2s\u001b[0m 481ms/step - accuracy: 0.9976 - loss: 0.0407 - val_accuracy: 0.7059 - val_loss: 0.6034\n"
          ]
        },
        {
          "output_type": "execute_result",
          "data": {
            "text/plain": [
              "<keras.src.callbacks.history.History at 0x7b2900185a50>"
            ]
          },
          "metadata": {},
          "execution_count": 52
        }
      ]
    },
    {
      "cell_type": "code",
      "source": [
        "model1.save('model1.h5')"
      ],
      "metadata": {
        "id": "19i2Eg6Br50j",
        "outputId": "e1ab5867-e3a6-49bb-8e33-3977da01abe9",
        "colab": {
          "base_uri": "https://localhost:8080/"
        }
      },
      "execution_count": 88,
      "outputs": [
        {
          "output_type": "stream",
          "name": "stderr",
          "text": [
            "WARNING:absl:You are saving your model as an HDF5 file via `model.save()` or `keras.saving.save_model(model)`. This file format is considered legacy. We recommend using instead the native Keras format, e.g. `model.save('my_model.keras')` or `keras.saving.save_model(model, 'my_model.keras')`. \n"
          ]
        }
      ]
    },
    {
      "cell_type": "code",
      "source": [
        "path='/content/th (28).jpeg'"
      ],
      "metadata": {
        "id": "iRa5jFnCu1FO"
      },
      "execution_count": 415,
      "outputs": []
    },
    {
      "cell_type": "code",
      "source": [
        "img=cv2.imread(path)"
      ],
      "metadata": {
        "id": "aZnXAUKrvDqr"
      },
      "execution_count": 416,
      "outputs": []
    },
    {
      "cell_type": "code",
      "source": [
        "img=cv2.resize(img,(222,222))"
      ],
      "metadata": {
        "id": "3IMHYqiYvFcX"
      },
      "execution_count": 417,
      "outputs": []
    },
    {
      "cell_type": "code",
      "source": [
        "img1=img/255"
      ],
      "metadata": {
        "id": "a6bfBZwwvQLq"
      },
      "execution_count": 418,
      "outputs": []
    },
    {
      "cell_type": "code",
      "source": [
        "img2=np.expand_dims(img1,axis=0)"
      ],
      "metadata": {
        "id": "GvKk-h9BvzPH"
      },
      "execution_count": 419,
      "outputs": []
    },
    {
      "cell_type": "code",
      "source": [
        "img2.shape"
      ],
      "metadata": {
        "id": "j18dFKhWwKfb",
        "outputId": "ba83adfc-1c36-4c35-85a9-38b832779b02",
        "colab": {
          "base_uri": "https://localhost:8080/"
        }
      },
      "execution_count": 420,
      "outputs": [
        {
          "output_type": "execute_result",
          "data": {
            "text/plain": [
              "(1, 222, 222, 3)"
            ]
          },
          "metadata": {},
          "execution_count": 420
        }
      ]
    },
    {
      "cell_type": "code",
      "source": [
        "img2.ndim"
      ],
      "metadata": {
        "id": "BZh9_I-dw0aX",
        "outputId": "57729a01-6ac8-46f3-e367-06d092c81ca8",
        "colab": {
          "base_uri": "https://localhost:8080/"
        }
      },
      "execution_count": 421,
      "outputs": [
        {
          "output_type": "execute_result",
          "data": {
            "text/plain": [
              "4"
            ]
          },
          "metadata": {},
          "execution_count": 421
        }
      ]
    },
    {
      "cell_type": "code",
      "source": [],
      "metadata": {
        "id": "9tRVCPUGw3wA"
      },
      "execution_count": 421,
      "outputs": []
    },
    {
      "cell_type": "code",
      "source": [],
      "metadata": {
        "id": "8AcBn7Ot0vyo"
      },
      "execution_count": 421,
      "outputs": []
    },
    {
      "cell_type": "code",
      "source": [],
      "metadata": {
        "id": "FfJ9WoRE0vvk"
      },
      "execution_count": 421,
      "outputs": []
    },
    {
      "cell_type": "code",
      "source": [
        "np.where(model1.predict(img2)>0.5,'Sad','Happy')"
      ],
      "metadata": {
        "id": "SdyGNKXjvYpM",
        "outputId": "5aa9bed9-2eba-423a-837d-403e5728b69b",
        "colab": {
          "base_uri": "https://localhost:8080/"
        }
      },
      "execution_count": 422,
      "outputs": [
        {
          "output_type": "stream",
          "name": "stdout",
          "text": [
            "\u001b[1m1/1\u001b[0m \u001b[32m━━━━━━━━━━━━━━━━━━━━\u001b[0m\u001b[37m\u001b[0m \u001b[1m0s\u001b[0m 18ms/step\n"
          ]
        },
        {
          "output_type": "execute_result",
          "data": {
            "text/plain": [
              "array([['Sad']], dtype='<U5')"
            ]
          },
          "metadata": {},
          "execution_count": 422
        }
      ]
    },
    {
      "cell_type": "code",
      "source": [],
      "metadata": {
        "id": "1VpFDnPxvcH1",
        "outputId": "acc17b87-3c5d-42b5-adce-f99a2cf3e362",
        "colab": {
          "base_uri": "https://localhost:8080/"
        }
      },
      "execution_count": 24,
      "outputs": [
        {
          "output_type": "execute_result",
          "data": {
            "text/plain": [
              "5"
            ]
          },
          "metadata": {},
          "execution_count": 24
        }
      ]
    },
    {
      "cell_type": "code",
      "source": [
        "img"
      ],
      "metadata": {
        "id": "rDuMMi1GvhBZ",
        "outputId": "036b90d3-9159-4780-c304-7d1d6c27c262",
        "colab": {
          "base_uri": "https://localhost:8080/",
          "height": 261
        }
      },
      "execution_count": 424,
      "outputs": [
        {
          "output_type": "execute_result",
          "data": {
            "text/plain": [
              "array([[[ 68,  77,  97],\n",
              "        [ 69,  76,  96],\n",
              "        [ 70,  76,  96],\n",
              "        ...,\n",
              "        [ 97, 105, 158],\n",
              "        [101, 109, 162],\n",
              "        [104, 112, 165]],\n",
              "\n",
              "       [[ 71,  79, 102],\n",
              "        [ 71,  79, 102],\n",
              "        [ 72,  80, 100],\n",
              "        ...,\n",
              "        [ 93, 103, 156],\n",
              "        [ 96, 107, 159],\n",
              "        [ 99, 109, 162]],\n",
              "\n",
              "       [[ 78,  88, 112],\n",
              "        [ 79,  89, 113],\n",
              "        [ 80,  90, 112],\n",
              "        ...,\n",
              "        [ 91, 107, 161],\n",
              "        [ 94, 110, 163],\n",
              "        [ 96, 111, 165]],\n",
              "\n",
              "       ...,\n",
              "\n",
              "       [[ 44,  36,  22],\n",
              "        [ 38,  30,  17],\n",
              "        [ 43,  35,  22],\n",
              "        ...,\n",
              "        [ 37,  41,  35],\n",
              "        [ 33,  37,  31],\n",
              "        [ 44,  48,  42]],\n",
              "\n",
              "       [[ 53,  45,  32],\n",
              "        [ 41,  33,  20],\n",
              "        [ 47,  39,  26],\n",
              "        ...,\n",
              "        [ 48,  52,  46],\n",
              "        [ 42,  46,  40],\n",
              "        [ 57,  61,  55]],\n",
              "\n",
              "       [[ 60,  52,  39],\n",
              "        [ 41,  33,  20],\n",
              "        [ 49,  41,  28],\n",
              "        ...,\n",
              "        [ 60,  64,  58],\n",
              "        [ 52,  56,  50],\n",
              "        [ 70,  74,  68]]], dtype=uint8)"
            ],
            "text/html": [
              "<style>\n",
              "      .ndarray_repr .ndarray_raw_data {\n",
              "        display: none;\n",
              "      }\n",
              "      .ndarray_repr.show_array .ndarray_raw_data {\n",
              "        display: block;\n",
              "      }\n",
              "      .ndarray_repr.show_array .ndarray_image_preview {\n",
              "        display: none;\n",
              "      }\n",
              "      </style>\n",
              "      <div id=\"id-55714fc4-75c3-4a1e-884f-3d8ed3c5b506\" class=\"ndarray_repr\"><pre>ndarray (222, 222, 3) <button style=\"padding: 0 2px;\">show data</button></pre><img src=\"data:image/png;base64,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\" class=\"ndarray_image_preview\" /><pre class=\"ndarray_raw_data\">array([[[ 68,  77,  97],\n",
              "        [ 69,  76,  96],\n",
              "        [ 70,  76,  96],\n",
              "        ...,\n",
              "        [ 97, 105, 158],\n",
              "        [101, 109, 162],\n",
              "        [104, 112, 165]],\n",
              "\n",
              "       [[ 71,  79, 102],\n",
              "        [ 71,  79, 102],\n",
              "        [ 72,  80, 100],\n",
              "        ...,\n",
              "        [ 93, 103, 156],\n",
              "        [ 96, 107, 159],\n",
              "        [ 99, 109, 162]],\n",
              "\n",
              "       [[ 78,  88, 112],\n",
              "        [ 79,  89, 113],\n",
              "        [ 80,  90, 112],\n",
              "        ...,\n",
              "        [ 91, 107, 161],\n",
              "        [ 94, 110, 163],\n",
              "        [ 96, 111, 165]],\n",
              "\n",
              "       ...,\n",
              "\n",
              "       [[ 44,  36,  22],\n",
              "        [ 38,  30,  17],\n",
              "        [ 43,  35,  22],\n",
              "        ...,\n",
              "        [ 37,  41,  35],\n",
              "        [ 33,  37,  31],\n",
              "        [ 44,  48,  42]],\n",
              "\n",
              "       [[ 53,  45,  32],\n",
              "        [ 41,  33,  20],\n",
              "        [ 47,  39,  26],\n",
              "        ...,\n",
              "        [ 48,  52,  46],\n",
              "        [ 42,  46,  40],\n",
              "        [ 57,  61,  55]],\n",
              "\n",
              "       [[ 60,  52,  39],\n",
              "        [ 41,  33,  20],\n",
              "        [ 49,  41,  28],\n",
              "        ...,\n",
              "        [ 60,  64,  58],\n",
              "        [ 52,  56,  50],\n",
              "        [ 70,  74,  68]]], dtype=uint8)</pre></div><script>\n",
              "      (() => {\n",
              "      const titles = ['show data', 'hide data'];\n",
              "      let index = 0\n",
              "      document.querySelector('#id-55714fc4-75c3-4a1e-884f-3d8ed3c5b506 button').onclick = (e) => {\n",
              "        document.querySelector('#id-55714fc4-75c3-4a1e-884f-3d8ed3c5b506').classList.toggle('show_array');\n",
              "        index = (++index) % 2;\n",
              "        document.querySelector('#id-55714fc4-75c3-4a1e-884f-3d8ed3c5b506 button').textContent = titles[index];\n",
              "        e.preventDefault();\n",
              "        e.stopPropagation();\n",
              "      }\n",
              "      })();\n",
              "    </script>"
            ]
          },
          "metadata": {},
          "execution_count": 424
        }
      ]
    },
    {
      "cell_type": "code",
      "source": [
        "test.as_numpy_iterator().next()"
      ],
      "metadata": {
        "id": "9J1NDFzgyZL6",
        "outputId": "d0141d26-1cf0-40f3-e941-a55306e416c9",
        "colab": {
          "base_uri": "https://localhost:8080/"
        }
      },
      "execution_count": 445,
      "outputs": [
        {
          "output_type": "execute_result",
          "data": {
            "text/plain": [
              "(array([[[[0.41265756, 0.42834383, 0.46363795],\n",
              "          [0.42362568, 0.4379727 , 0.4732668 ],\n",
              "          [0.43583682, 0.44760153, 0.48289564],\n",
              "          ...,\n",
              "          [0.46950254, 0.468356  , 0.4981    ],\n",
              "          [0.47843137, 0.47058824, 0.5137255 ],\n",
              "          [0.47843137, 0.47058824, 0.5137255 ]],\n",
              " \n",
              "         [[0.41265756, 0.42834383, 0.46363795],\n",
              "          [0.42362568, 0.4379727 , 0.4732668 ],\n",
              "          [0.4390754 , 0.44598225, 0.48289564],\n",
              "          ...,\n",
              "          [0.46950254, 0.468356  , 0.4981    ],\n",
              "          [0.47843137, 0.47058824, 0.5137255 ],\n",
              "          [0.47843137, 0.47058824, 0.5137255 ]],\n",
              " \n",
              "         [[0.41478467, 0.42834383, 0.46363795],\n",
              "          [0.42647922, 0.43724626, 0.4732668 ],\n",
              "          [0.44213384, 0.44445303, 0.48289564],\n",
              "          ...,\n",
              "          [0.46950254, 0.468356  , 0.4981    ],\n",
              "          [0.47843137, 0.47058824, 0.5137255 ],\n",
              "          [0.47843137, 0.47058824, 0.5137255 ]],\n",
              " \n",
              "         ...,\n",
              " \n",
              "         [[0.6298153 , 0.6568198 , 0.72651523],\n",
              "          [0.6103682 , 0.6285404 , 0.6872677 ],\n",
              "          [0.59025675, 0.5912141 , 0.6367088 ],\n",
              "          ...,\n",
              "          [0.8076998 , 0.81162137, 0.7802488 ],\n",
              "          [0.8192402 , 0.8231618 , 0.79178923],\n",
              "          [0.85023886, 0.8541604 , 0.8227879 ]],\n",
              " \n",
              "         [[0.6541576 , 0.6788862 , 0.7496583 ],\n",
              "          [0.6537907 , 0.66983604, 0.7292723 ],\n",
              "          [0.5839267 , 0.5873056 , 0.63158953],\n",
              "          ...,\n",
              "          [0.81031114, 0.8142327 , 0.78286016],\n",
              "          [0.8231969 , 0.82711846, 0.7957459 ],\n",
              "          [0.8410099 , 0.8449315 , 0.81355894]],\n",
              " \n",
              "         [[0.6992822 , 0.7179972 , 0.7916141 ],\n",
              "          [0.6824492 , 0.6928746 , 0.7541842 ],\n",
              "          [0.59867823, 0.6020571 , 0.6463411 ],\n",
              "          ...,\n",
              "          [0.81236833, 0.8162899 , 0.78491735],\n",
              "          [0.8261117 , 0.83003324, 0.7986607 ],\n",
              "          [0.83092606, 0.8348476 , 0.8034751 ]]],\n",
              " \n",
              " \n",
              "        [[[1.        , 1.        , 1.        ],\n",
              "          [1.        , 1.        , 1.        ],\n",
              "          [1.        , 1.        , 1.        ],\n",
              "          ...,\n",
              "          [1.        , 1.        , 1.        ],\n",
              "          [1.        , 1.        , 1.        ],\n",
              "          [1.        , 1.        , 1.        ]],\n",
              " \n",
              "         [[1.        , 1.        , 1.        ],\n",
              "          [1.        , 1.        , 1.        ],\n",
              "          [1.        , 1.        , 1.        ],\n",
              "          ...,\n",
              "          [1.        , 1.        , 1.        ],\n",
              "          [1.        , 1.        , 1.        ],\n",
              "          [1.        , 1.        , 1.        ]],\n",
              " \n",
              "         [[1.        , 1.        , 1.        ],\n",
              "          [1.        , 1.        , 1.        ],\n",
              "          [1.        , 1.        , 1.        ],\n",
              "          ...,\n",
              "          [1.        , 1.        , 1.        ],\n",
              "          [1.        , 1.        , 1.        ],\n",
              "          [1.        , 1.        , 1.        ]],\n",
              " \n",
              "         ...,\n",
              " \n",
              "         [[1.        , 1.        , 1.        ],\n",
              "          [1.        , 1.        , 1.        ],\n",
              "          [1.        , 1.        , 1.        ],\n",
              "          ...,\n",
              "          [1.        , 1.        , 1.        ],\n",
              "          [1.        , 1.        , 1.        ],\n",
              "          [1.        , 1.        , 1.        ]],\n",
              " \n",
              "         [[1.        , 1.        , 1.        ],\n",
              "          [1.        , 1.        , 1.        ],\n",
              "          [1.        , 1.        , 1.        ],\n",
              "          ...,\n",
              "          [1.        , 1.        , 1.        ],\n",
              "          [1.        , 1.        , 1.        ],\n",
              "          [1.        , 1.        , 1.        ]],\n",
              " \n",
              "         [[1.        , 1.        , 1.        ],\n",
              "          [1.        , 1.        , 1.        ],\n",
              "          [1.        , 1.        , 1.        ],\n",
              "          ...,\n",
              "          [1.        , 1.        , 1.        ],\n",
              "          [1.        , 1.        , 1.        ],\n",
              "          [1.        , 1.        , 1.        ]]],\n",
              " \n",
              " \n",
              "        [[[0.7864496 , 0.7864496 , 0.79429275],\n",
              "          [0.79429275, 0.79429275, 0.8021359 ],\n",
              "          [0.7911247 , 0.7911247 , 0.79896784],\n",
              "          ...,\n",
              "          [0.7994048 , 0.79156166, 0.80332637],\n",
              "          [0.8007703 , 0.79292715, 0.80469185],\n",
              "          [0.7967609 , 0.7889178 , 0.8006825 ]],\n",
              " \n",
              "         [[0.7764706 , 0.7764706 , 0.78431374],\n",
              "          [0.78431374, 0.78431374, 0.7921569 ],\n",
              "          [0.7806174 , 0.7806174 , 0.78846055],\n",
              "          ...,\n",
              "          [0.7894258 , 0.78158265, 0.79334736],\n",
              "          [0.7900049 , 0.7821618 , 0.7939265 ],\n",
              "          [0.7864142 , 0.77857107, 0.7903358 ]],\n",
              " \n",
              "         [[0.78312325, 0.78312325, 0.7909664 ],\n",
              "          [0.7909664 , 0.7909664 , 0.7988095 ],\n",
              "          [0.78981483, 0.78981483, 0.79765797],\n",
              "          ...,\n",
              "          [0.7998424 , 0.7919993 , 0.803764  ],\n",
              "          [0.7998424 , 0.7919993 , 0.803764  ],\n",
              "          [0.79306686, 0.7852237 , 0.7969884 ]],\n",
              " \n",
              "         ...,\n",
              " \n",
              "         [[0.5960602 , 0.29472944, 0.2631994 ],\n",
              "          [0.45526183, 0.17060246, 0.12779075],\n",
              "          [0.61950016, 0.372694  , 0.3143432 ],\n",
              "          ...,\n",
              "          [0.59582955, 0.3762217 , 0.37545952],\n",
              "          [0.63266623, 0.42482308, 0.4062005 ],\n",
              "          [0.64173806, 0.4539578 , 0.4147421 ]],\n",
              " \n",
              "         [[0.4555271 , 0.17756832, 0.1422742 ],\n",
              "          [0.530496  , 0.2626388 , 0.2200968 ],\n",
              "          [0.700895  , 0.47263867, 0.4107911 ],\n",
              "          ...,\n",
              "          [0.54480016, 0.32519233, 0.32127076],\n",
              "          [0.5744033 , 0.36656016, 0.34303075],\n",
              "          [0.5933298 , 0.4057425 , 0.3659479 ]],\n",
              " \n",
              "         [[0.50601906, 0.24252112, 0.20722699],\n",
              "          [0.6667047 , 0.41421854, 0.3693665 ],\n",
              "          [0.7577241 , 0.5448388 , 0.4828449 ],\n",
              "          ...,\n",
              "          [0.52181476, 0.30404574, 0.29644647],\n",
              "          [0.5510844 , 0.34324124, 0.31750515],\n",
              "          [0.566299  , 0.37897375, 0.33279097]]],\n",
              " \n",
              " \n",
              "        ...,\n",
              " \n",
              " \n",
              "        [[[0.08493523, 0.12067577, 0.23707983],\n",
              "          [0.06781338, 0.11104693, 0.26169467],\n",
              "          [0.04820554, 0.1081145 , 0.28235295],\n",
              "          ...,\n",
              "          [0.12494734, 0.12494734, 0.27396694],\n",
              "          [0.12941177, 0.12941177, 0.27326685],\n",
              "          [0.12941177, 0.12941177, 0.27058825]],\n",
              " \n",
              "         [[0.08493523, 0.11433827, 0.22789745],\n",
              "          [0.06975654, 0.09966737, 0.24747024],\n",
              "          [0.06523041, 0.09835424, 0.26488993],\n",
              "          ...,\n",
              "          [0.12372181, 0.12210245, 0.27436078],\n",
              "          [0.12656689, 0.12656689, 0.27042195],\n",
              "          [0.12656689, 0.12656689, 0.26774335]],\n",
              " \n",
              "         [[0.09629717, 0.11643612, 0.22229517],\n",
              "          [0.09259385, 0.10246839, 0.23850685],\n",
              "          [0.1205305 , 0.10316877, 0.25674248],\n",
              "          ...,\n",
              "          [0.12446876, 0.11919313, 0.27359346],\n",
              "          [0.1254902 , 0.121236  , 0.27001947],\n",
              "          [0.1254902 , 0.121236  , 0.26879376]],\n",
              " \n",
              "         ...,\n",
              " \n",
              "         [[0.11394446, 0.13747388, 0.27865034],\n",
              "          [0.10840359, 0.1305937 , 0.27444878],\n",
              "          [0.10097772, 0.12058557, 0.2696052 ],\n",
              "          ...,\n",
              "          [0.13765518, 0.16656537, 0.35073578],\n",
              "          [0.11877609, 0.14561424, 0.32723206],\n",
              "          [0.11530104, 0.14275202, 0.32314417]],\n",
              " \n",
              "         [[0.10017513, 0.12262787, 0.2659577 ],\n",
              "          [0.09668251, 0.11816368, 0.26343665],\n",
              "          [0.09318989, 0.11279773, 0.26181734],\n",
              "          ...,\n",
              "          [0.15442121, 0.18334268, 0.36888194],\n",
              "          [0.13371845, 0.16127451, 0.34397757],\n",
              "          [0.1302434 , 0.15877105, 0.3391632 ]],\n",
              " \n",
              "         [[0.08627451, 0.10588235, 0.25490198],\n",
              "          [0.08627451, 0.10588235, 0.25490198],\n",
              "          [0.08627451, 0.10588235, 0.25490198],\n",
              "          ...,\n",
              "          [0.16742015, 0.1987927 , 0.38310644],\n",
              "          [0.14509805, 0.1764706 , 0.35820204],\n",
              "          [0.14162299, 0.17299554, 0.35338768]]],\n",
              " \n",
              " \n",
              "        [[[0.4445028 , 0.46018907, 0.47195378],\n",
              "          [0.45490196, 0.47843137, 0.47843137],\n",
              "          [0.46255255, 0.48608196, 0.48608196],\n",
              "          ...,\n",
              "          [0.08235294, 0.11764706, 0.14509805],\n",
              "          [0.07450981, 0.10980392, 0.13725491],\n",
              "          [0.07843138, 0.12156863, 0.12941177]],\n",
              " \n",
              "         [[0.44231442, 0.4504257 , 0.49668008],\n",
              "          [0.45882353, 0.48107493, 0.48490897],\n",
              "          [0.46137956, 0.48363093, 0.487465  ],\n",
              "          ...,\n",
              "          [0.08235294, 0.11764706, 0.14509805],\n",
              "          [0.08235294, 0.11764706, 0.14509805],\n",
              "          [0.06749004, 0.1106273 , 0.1190071 ]],\n",
              " \n",
              "         [[0.4495074 , 0.46911523, 0.49264464],\n",
              "          [0.4627451 , 0.48235294, 0.5058824 ],\n",
              "          [0.4627451 , 0.48235294, 0.5058824 ],\n",
              "          ...,\n",
              "          [0.08235294, 0.11764706, 0.14509805],\n",
              "          [0.08235294, 0.11764706, 0.14509805],\n",
              "          [0.06749004, 0.1106273 , 0.1341567 ]],\n",
              " \n",
              "         ...,\n",
              " \n",
              "         [[0.        , 0.        , 0.        ],\n",
              "          [0.        , 0.        , 0.        ],\n",
              "          [0.        , 0.        , 0.        ],\n",
              "          ...,\n",
              "          [0.        , 0.        , 0.        ],\n",
              "          [0.        , 0.        , 0.        ],\n",
              "          [0.        , 0.        , 0.        ]],\n",
              " \n",
              "         [[0.        , 0.        , 0.        ],\n",
              "          [0.        , 0.        , 0.        ],\n",
              "          [0.        , 0.        , 0.        ],\n",
              "          ...,\n",
              "          [0.        , 0.        , 0.        ],\n",
              "          [0.        , 0.        , 0.        ],\n",
              "          [0.        , 0.        , 0.        ]],\n",
              " \n",
              "         [[0.        , 0.        , 0.        ],\n",
              "          [0.        , 0.        , 0.        ],\n",
              "          [0.        , 0.        , 0.        ],\n",
              "          ...,\n",
              "          [0.        , 0.        , 0.        ],\n",
              "          [0.        , 0.        , 0.        ],\n",
              "          [0.        , 0.        , 0.        ]]],\n",
              " \n",
              " \n",
              "        [[[0.92156863, 0.8980392 , 0.8352941 ],\n",
              "          [0.92156863, 0.8980392 , 0.8352941 ],\n",
              "          [0.92156863, 0.8980392 , 0.8352941 ],\n",
              "          ...,\n",
              "          [0.9131818 , 0.8825704 , 0.83899826],\n",
              "          [0.9098039 , 0.8862745 , 0.83761024],\n",
              "          [0.90588236, 0.88235295, 0.82883894]],\n",
              " \n",
              "         [[0.92156863, 0.8980392 , 0.8352941 ],\n",
              "          [0.92156863, 0.8980392 , 0.8352941 ],\n",
              "          [0.92156863, 0.8980392 , 0.8352941 ],\n",
              "          ...,\n",
              "          [0.920356  , 0.8916924 , 0.8315735 ],\n",
              "          [0.916928  , 0.8861156 , 0.8347339 ],\n",
              "          [0.913299  , 0.8824867 , 0.83585435]],\n",
              " \n",
              "         [[0.92156863, 0.8980392 , 0.8352941 ],\n",
              "          [0.92156863, 0.8980392 , 0.8352941 ],\n",
              "          [0.92156863, 0.8980392 , 0.8352941 ],\n",
              "          ...,\n",
              "          [0.92156863, 0.8980392 , 0.8509804 ],\n",
              "          [0.92156863, 0.8980392 , 0.8509804 ],\n",
              "          [0.92156863, 0.8980392 , 0.8509804 ]],\n",
              " \n",
              "         ...,\n",
              " \n",
              "         [[0.22267641, 0.21109572, 0.24897337],\n",
              "          [0.22866374, 0.20959902, 0.24769406],\n",
              "          [0.40278476, 0.24326219, 0.24528036],\n",
              "          ...,\n",
              "          [0.2179271 , 0.21400553, 0.24537808],\n",
              "          [0.21960784, 0.21568628, 0.24705882],\n",
              "          [0.21960784, 0.21568628, 0.24705882]],\n",
              " \n",
              "         [[0.2990422 , 0.21399657, 0.2375937 ],\n",
              "          [0.24485886, 0.21144716, 0.24615479],\n",
              "          [0.2511015 , 0.20440018, 0.21924828],\n",
              "          ...,\n",
              "          [0.21960784, 0.21568628, 0.24705882],\n",
              "          [0.21960784, 0.21568628, 0.24705882],\n",
              "          [0.21960784, 0.21568628, 0.24705882]],\n",
              " \n",
              "         [[0.27802056, 0.2259955 , 0.24606346],\n",
              "          [0.22513501, 0.20985022, 0.25066277],\n",
              "          [0.23571317, 0.20841958, 0.2413802 ],\n",
              "          ...,\n",
              "          [0.22385563, 0.21433176, 0.24850546],\n",
              "          [0.21960784, 0.21568628, 0.24705882],\n",
              "          [0.21960784, 0.21568628, 0.24705882]]]], dtype=float32),\n",
              " array([1, 1, 0, 0, 1, 0, 1, 0, 0, 0, 0, 0, 1, 1, 0, 1, 0, 0, 1, 1, 1, 1,\n",
              "        0, 1, 0, 0, 1, 1, 0, 0, 1, 0], dtype=int32))"
            ]
          },
          "metadata": {},
          "execution_count": 445
        }
      ]
    },
    {
      "cell_type": "code",
      "source": [
        "pred=np.where(model1.predict(test)>0.5,1,0)"
      ],
      "metadata": {
        "id": "BiSwSQCs2dia",
        "outputId": "e7c7ade0-519b-446e-8020-8391ccc8cbd7",
        "colab": {
          "base_uri": "https://localhost:8080/"
        }
      },
      "execution_count": 429,
      "outputs": [
        {
          "output_type": "stream",
          "name": "stdout",
          "text": [
            "\u001b[1m2/2\u001b[0m \u001b[32m━━━━━━━━━━━━━━━━━━━━\u001b[0m\u001b[37m\u001b[0m \u001b[1m0s\u001b[0m 15ms/step \n"
          ]
        }
      ]
    },
    {
      "cell_type": "code",
      "source": [
        "from sklearn.metrics import confusion_matrix,classification_report"
      ],
      "metadata": {
        "id": "p8t2fMiE2jbZ"
      },
      "execution_count": 62,
      "outputs": []
    },
    {
      "cell_type": "code",
      "source": [
        "model1.evaluate(test)"
      ],
      "metadata": {
        "id": "UrQ7UpSt28Uc",
        "outputId": "59561c69-8d98-48bd-a101-f36ec17b87b6",
        "colab": {
          "base_uri": "https://localhost:8080/"
        }
      },
      "execution_count": 431,
      "outputs": [
        {
          "output_type": "stream",
          "name": "stdout",
          "text": [
            "\u001b[1m2/2\u001b[0m \u001b[32m━━━━━━━━━━━━━━━━━━━━\u001b[0m\u001b[37m\u001b[0m \u001b[1m0s\u001b[0m 9ms/step - accuracy: 0.7102 - loss: 0.6476  \n"
          ]
        },
        {
          "output_type": "execute_result",
          "data": {
            "text/plain": [
              "[0.6488412022590637, 0.7058823704719543]"
            ]
          },
          "metadata": {},
          "execution_count": 431
        }
      ]
    },
    {
      "cell_type": "code",
      "source": [
        "test=test.map(normalize)"
      ],
      "metadata": {
        "id": "wdJfNUscPvLw"
      },
      "execution_count": 119,
      "outputs": []
    },
    {
      "cell_type": "code",
      "source": [],
      "metadata": {
        "id": "FRJI_waQ3IOA"
      },
      "execution_count": 92,
      "outputs": []
    },
    {
      "cell_type": "code",
      "source": [],
      "metadata": {
        "id": "qAJeg5ixPBPj"
      },
      "execution_count": 75,
      "outputs": []
    },
    {
      "cell_type": "code",
      "source": [],
      "metadata": {
        "id": "v3JQqjIVQEz9"
      },
      "execution_count": 91,
      "outputs": []
    },
    {
      "cell_type": "code",
      "source": [
        "\n"
      ],
      "metadata": {
        "id": "WBD7Pry0QBHq",
        "outputId": "b1fdb61f-9e74-45ac-f863-1505fdc939a7",
        "colab": {
          "base_uri": "https://localhost:8080/"
        }
      },
      "execution_count": 85,
      "outputs": [
        {
          "output_type": "execute_result",
          "data": {
            "text/plain": [
              "32"
            ]
          },
          "metadata": {},
          "execution_count": 85
        }
      ]
    },
    {
      "cell_type": "code",
      "source": [],
      "metadata": {
        "id": "HJ-MkELf3BqP"
      },
      "execution_count": 92,
      "outputs": []
    },
    {
      "cell_type": "code",
      "source": [
        "pred=model.predict(test)[:32].reshape(1,32)"
      ],
      "metadata": {
        "id": "oJBch1DY3Fw_",
        "outputId": "1068548e-5508-4cbf-d22a-7bd4d6a1ed51",
        "colab": {
          "base_uri": "https://localhost:8080/"
        }
      },
      "execution_count": 57,
      "outputs": [
        {
          "output_type": "stream",
          "name": "stdout",
          "text": [
            "\u001b[1m2/2\u001b[0m \u001b[32m━━━━━━━━━━━━━━━━━━━━\u001b[0m\u001b[37m\u001b[0m \u001b[1m2s\u001b[0m 80ms/step\n"
          ]
        }
      ]
    },
    {
      "cell_type": "code",
      "source": [],
      "metadata": {
        "id": "VOwSU_ezMpDW"
      },
      "execution_count": null,
      "outputs": []
    },
    {
      "cell_type": "code",
      "source": [
        "y=test.as_numpy_iterator().next()[1].reshape(1,32)"
      ],
      "metadata": {
        "id": "KoCoCc863k0q"
      },
      "execution_count": 60,
      "outputs": []
    },
    {
      "cell_type": "code",
      "source": [
        "confusion_matrix(y,pred)"
      ],
      "metadata": {
        "id": "6SLK1YHPOsaE",
        "outputId": "1ef77a35-4889-401c-eb2d-a7abb787b156",
        "colab": {
          "base_uri": "https://localhost:8080/",
          "height": 147
        }
      },
      "execution_count": 61,
      "outputs": [
        {
          "output_type": "error",
          "ename": "NameError",
          "evalue": "name 'confusion_matrix' is not defined",
          "traceback": [
            "\u001b[0;31m---------------------------------------------------------------------------\u001b[0m",
            "\u001b[0;31mNameError\u001b[0m                                 Traceback (most recent call last)",
            "\u001b[0;32m<ipython-input-61-a3561823d4a5>\u001b[0m in \u001b[0;36m<cell line: 1>\u001b[0;34m()\u001b[0m\n\u001b[0;32m----> 1\u001b[0;31m \u001b[0mconfusion_matrix\u001b[0m\u001b[0;34m(\u001b[0m\u001b[0my\u001b[0m\u001b[0;34m,\u001b[0m\u001b[0mpred\u001b[0m\u001b[0;34m)\u001b[0m\u001b[0;34m\u001b[0m\u001b[0;34m\u001b[0m\u001b[0m\n\u001b[0m",
            "\u001b[0;31mNameError\u001b[0m: name 'confusion_matrix' is not defined"
          ]
        }
      ]
    },
    {
      "cell_type": "code",
      "source": [
        "test.as_numpy_iterator().next()[0].shape"
      ],
      "metadata": {
        "id": "4H0vI5UONFwZ",
        "outputId": "8b44aecd-6390-4639-cf64-9f6bd6fa1f96",
        "colab": {
          "base_uri": "https://localhost:8080/"
        }
      },
      "execution_count": 42,
      "outputs": [
        {
          "output_type": "execute_result",
          "data": {
            "text/plain": [
              "(32, 224, 224, 3)"
            ]
          },
          "metadata": {},
          "execution_count": 42
        }
      ]
    },
    {
      "cell_type": "code",
      "source": [
        "n=[]\n",
        "for i in test.as_numpy_iterator():\n",
        "  for a in i[1]:\n",
        "    n.append(a)"
      ],
      "metadata": {
        "id": "4cIO76vwMqZD"
      },
      "execution_count": 138,
      "outputs": []
    },
    {
      "cell_type": "code",
      "source": [
        "model.predict(test).shape"
      ],
      "metadata": {
        "id": "oaxKWBzi3mc8",
        "outputId": "9fe8a9ac-3afa-41f3-99fd-b9716974c0a4",
        "colab": {
          "base_uri": "https://localhost:8080/"
        }
      },
      "execution_count": 33,
      "outputs": [
        {
          "output_type": "stream",
          "name": "stdout",
          "text": [
            "\u001b[1m2/2\u001b[0m \u001b[32m━━━━━━━━━━━━━━━━━━━━\u001b[0m\u001b[37m\u001b[0m \u001b[1m3s\u001b[0m 115ms/step\n"
          ]
        },
        {
          "output_type": "execute_result",
          "data": {
            "text/plain": [
              "(34, 1)"
            ]
          },
          "metadata": {},
          "execution_count": 33
        }
      ]
    },
    {
      "cell_type": "code",
      "source": [
        "y=np.array(n).reshape(34,1)"
      ],
      "metadata": {
        "id": "U2qiD9CRS7yT"
      },
      "execution_count": 144,
      "outputs": []
    },
    {
      "cell_type": "code",
      "source": [
        "pred=np.where(model.predict(test)>0.5,1,0)"
      ],
      "metadata": {
        "id": "7y2jrq6EUtXH",
        "outputId": "b27ee73a-be87-4d27-ae64-c021e617b54c",
        "colab": {
          "base_uri": "https://localhost:8080/"
        }
      },
      "execution_count": 159,
      "outputs": [
        {
          "output_type": "stream",
          "name": "stdout",
          "text": [
            "\u001b[1m2/2\u001b[0m \u001b[32m━━━━━━━━━━━━━━━━━━━━\u001b[0m\u001b[37m\u001b[0m \u001b[1m3s\u001b[0m 106ms/step\n"
          ]
        }
      ]
    },
    {
      "cell_type": "code",
      "source": [
        "pred1=np.where(model1.predict(test)>0.5,1,0)"
      ],
      "metadata": {
        "id": "QnYnvC2aV_OH",
        "outputId": "50cd1c70-3aaf-428b-ee6e-dc198dfca743",
        "colab": {
          "base_uri": "https://localhost:8080/"
        }
      },
      "execution_count": 160,
      "outputs": [
        {
          "output_type": "stream",
          "name": "stdout",
          "text": [
            "\u001b[1m2/2\u001b[0m \u001b[32m━━━━━━━━━━━━━━━━━━━━\u001b[0m\u001b[37m\u001b[0m \u001b[1m2s\u001b[0m 121ms/step\n"
          ]
        }
      ]
    },
    {
      "cell_type": "code",
      "source": [
        "y.shape"
      ],
      "metadata": {
        "id": "Moiv3R-rU2D9",
        "outputId": "311a267b-26ec-4a50-e7b1-5075c4e89705",
        "colab": {
          "base_uri": "https://localhost:8080/"
        }
      },
      "execution_count": 153,
      "outputs": [
        {
          "output_type": "execute_result",
          "data": {
            "text/plain": [
              "(34, 1)"
            ]
          },
          "metadata": {},
          "execution_count": 153
        }
      ]
    },
    {
      "cell_type": "code",
      "source": [
        "import seaborn as sns\n",
        "import matplotlib.pyplot as plt"
      ],
      "metadata": {
        "id": "o6LCF4AVWLbB"
      },
      "execution_count": 172,
      "outputs": []
    },
    {
      "cell_type": "code",
      "source": [
        "plt.title('Model Confusion Matrix')\n",
        "sns.heatmap(confusion_matrix(y,pred),annot=True,cmap='Blues')\n",
        "plt.show()"
      ],
      "metadata": {
        "id": "sqAzmZLQVVyr",
        "outputId": "97e1fb60-e2f9-4d83-89b9-625f862016fc",
        "colab": {
          "base_uri": "https://localhost:8080/",
          "height": 452
        }
      },
      "execution_count": 174,
      "outputs": [
        {
          "output_type": "display_data",
          "data": {
            "text/plain": [
              "<Figure size 640x480 with 2 Axes>"
            ],
            "image/png": "[encoded data removed]"
          },
          "metadata": {}
        }
      ]
    },
    {
      "cell_type": "code",
      "source": [
        "plt.title('Model1 Confusion Matrix')\n",
        "sns.heatmap(confusion_matrix(y,pred1),annot=True)\n",
        "plt.show()"
      ],
      "metadata": {
        "id": "g42syf2iWE11",
        "outputId": "472d620a-7e9a-4fc6-ef76-c6db2cfb84f3",
        "colab": {
          "base_uri": "https://localhost:8080/",
          "height": 452
        }
      },
      "execution_count": 175,
      "outputs": [
        {
          "output_type": "display_data",
          "data": {
            "text/plain": [
              "<Figure size 640x480 with 2 Axes>"
            ],
            "image/png": "[encoded data removed]"
          },
          "metadata": {}
        }
      ]
    },
    {
      "cell_type": "code",
      "source": [
        "print(classification_report(y,pred))"
      ],
      "metadata": {
        "id": "JPoAQq8eVgMf",
        "outputId": "2b1c8baf-c594-4aaf-ff6b-2c6605e6059c",
        "colab": {
          "base_uri": "https://localhost:8080/"
        }
      },
      "execution_count": 156,
      "outputs": [
        {
          "output_type": "stream",
          "name": "stdout",
          "text": [
            "              precision    recall  f1-score   support\n",
            "\n",
            "           0       0.67      0.89      0.76        18\n",
            "           1       0.80      0.50      0.62        16\n",
            "\n",
            "    accuracy                           0.71        34\n",
            "   macro avg       0.73      0.69      0.69        34\n",
            "weighted avg       0.73      0.71      0.69        34\n",
            "\n"
          ]
        }
      ]
    },
    {
      "cell_type": "code",
      "source": [
        "model.evaluate(test)"
      ],
      "metadata": {
        "id": "PE5kugBuVrQq",
        "outputId": "61bf7b22-58cf-44e5-86fc-4ad0250fe192",
        "colab": {
          "base_uri": "https://localhost:8080/"
        }
      },
      "execution_count": 157,
      "outputs": [
        {
          "output_type": "stream",
          "name": "stdout",
          "text": [
            "\u001b[1m2/2\u001b[0m \u001b[32m━━━━━━━━━━━━━━━━━━━━\u001b[0m\u001b[37m\u001b[0m \u001b[1m4s\u001b[0m 287ms/step - accuracy: 0.5000 - loss: 0.6919\n"
          ]
        },
        {
          "output_type": "execute_result",
          "data": {
            "text/plain": [
              "[0.6919231414794922, 0.5]"
            ]
          },
          "metadata": {},
          "execution_count": 157
        }
      ]
    },
    {
      "cell_type": "code",
      "source": [
        "model1.evaluate(test)"
      ],
      "metadata": {
        "id": "zpoqQEcFVxEi",
        "outputId": "7742f3bb-7238-42f6-8fc0-1ff267b58bdf",
        "colab": {
          "base_uri": "https://localhost:8080/"
        }
      },
      "execution_count": 158,
      "outputs": [
        {
          "output_type": "stream",
          "name": "stdout",
          "text": [
            "\u001b[1m2/2\u001b[0m \u001b[32m━━━━━━━━━━━━━━━━━━━━\u001b[0m\u001b[37m\u001b[0m \u001b[1m2s\u001b[0m 157ms/step - accuracy: 0.7102 - loss: 0.5932\n"
          ]
        },
        {
          "output_type": "execute_result",
          "data": {
            "text/plain": [
              "[0.5930585265159607, 0.7058823704719543]"
            ]
          },
          "metadata": {},
          "execution_count": 158
        }
      ]
    },
    {
      "cell_type": "code",
      "source": [],
      "metadata": {
        "id": "89e0XLogV1O4"
      },
      "execution_count": null,
      "outputs": []
    }
  ]
}